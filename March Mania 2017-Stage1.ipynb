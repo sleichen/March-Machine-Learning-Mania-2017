{
 "cells": [
  {
   "cell_type": "markdown",
   "metadata": {},
   "source": [
    "# March Mashine Learning Mania 2017\n",
    "The objective is to predict the results of the NCAA tournament for the year 2017. For all possible matchups that can occur a predicted win probability is computed for the team with lower teamID to win. Then the total score for the competition is computed using the Log_Loss function:\n",
    "$$ {\\rm Log\\_Loss} = -\\frac{1}{n} \\sum_{i=1}^n \\left(y_i \\log \\hat{y}_i + (1-y_i)\\log( 1-\\hat{y}_i) \\right) $$\n",
    "Here $y_i$ is the actual outcome of game $i$ (i.e., equal to either $0$ or $1$) and $\\hat{y}_i$ is the predicted outcome. A perfect score is zero."
   ]
  },
  {
   "cell_type": "markdown",
   "metadata": {},
   "source": [
    "## Setup\n",
    "Some preliminary code to import the packages we will need and make the plots look nice."
   ]
  },
  {
   "cell_type": "code",
   "execution_count": 172,
   "metadata": {
    "collapsed": false
   },
   "outputs": [],
   "source": [
    "%matplotlib inline \n",
    "import pandas as pd\n",
    "import numpy as np\n",
    "#import scipy.stats as stats\n",
    "import matplotlib.pyplot as plt\n",
    "\n",
    "from IPython.display import display #for displaying multiple outputs from a single cell\n",
    "\n",
    "\n",
    "import sklearn\n",
    "import sklearn.neural_network\n",
    "import sklearn.model_selection\n",
    "import sklearn.decomposition\n",
    "import sklearn.neighbors\n",
    "import sklearn.metrics\n",
    "\n",
    "#nice defaults for matplotlib\n",
    "from matplotlib import rcParams\n",
    "\n",
    "dark2_colors = [(0.10588235294117647, 0.6196078431372549, 0.4666666666666667),\n",
    "                (0.8509803921568627, 0.37254901960784315, 0.00784313725490196),\n",
    "                (0.4588235294117647, 0.4392156862745098, 0.7019607843137254),\n",
    "                (0.9058823529411765, 0.1607843137254902, 0.5411764705882353),\n",
    "                (0.4, 0.6509803921568628, 0.11764705882352941),\n",
    "                (0.9019607843137255, 0.6705882352941176, 0.00784313725490196),\n",
    "                (0.6509803921568628, 0.4627450980392157, 0.11372549019607843),\n",
    "                (0.4, 0.4, 0.4)]\n",
    "\n",
    "rcParams['figure.figsize'] = (10, 6)\n",
    "rcParams['figure.dpi'] = 150\n",
    "rcParams['axes.color_cycle'] = dark2_colors\n",
    "rcParams['lines.linewidth'] = 2\n",
    "rcParams['axes.grid'] = True\n",
    "rcParams['axes.facecolor'] = '#eeeeee'\n",
    "rcParams['font.size'] = 14\n",
    "rcParams['patch.edgecolor'] = 'none'"
   ]
  },
  {
   "cell_type": "markdown",
   "metadata": {},
   "source": [
    "## Import Data\n",
    "Historical data we use to build our model."
   ]
  },
  {
   "cell_type": "code",
   "execution_count": 173,
   "metadata": {
    "collapsed": false
   },
   "outputs": [],
   "source": [
    "teams = pd.read_csv('./Teams.csv')\n",
    "#seasons = pd.read_csv('./Seasons.csv')\n",
    "#results_compact = pd.read_csv('./RegularSeasonCompactResults.csv')\n",
    "results_detailed = pd.read_csv('./RegularSeasonDetailedResults.csv')\n",
    "#tourn_results_compact = pd.read_csv('./TourneyCompactResults.csv')\n",
    "tourn_results_detailed = pd.read_csv('./TourneyDetailedResults.csv')\n",
    "tourn_seeds = pd.read_csv('./TourneySeeds.csv')\n",
    "tourn_slots = pd.read_csv('./TourneySlots.csv')\n",
    "sample = pd.read_csv('./sample_submission.csv')"
   ]
  },
  {
   "cell_type": "markdown",
   "metadata": {},
   "source": [
    "## Neural Net Model\n",
    "\n",
    "Our model will be based on efficiency scores, which are totals divided by attempts per game. We will add the relevant columns to the results_detailed dataframe."
   ]
  },
  {
   "cell_type": "code",
   "execution_count": 174,
   "metadata": {
    "collapsed": false
   },
   "outputs": [
    {
     "data": {
      "text/html": [
       "<div>\n",
       "<table border=\"1\" class=\"dataframe\">\n",
       "  <thead>\n",
       "    <tr style=\"text-align: right;\">\n",
       "      <th></th>\n",
       "      <th>Season</th>\n",
       "      <th>Daynum</th>\n",
       "      <th>Wteam</th>\n",
       "      <th>Wscore</th>\n",
       "      <th>Lteam</th>\n",
       "      <th>Lscore</th>\n",
       "      <th>Wloc</th>\n",
       "      <th>Numot</th>\n",
       "      <th>Wfgm</th>\n",
       "      <th>Wfga</th>\n",
       "      <th>...</th>\n",
       "      <th>Lto</th>\n",
       "      <th>Lstl</th>\n",
       "      <th>Lblk</th>\n",
       "      <th>Lpf</th>\n",
       "      <th>Wfge</th>\n",
       "      <th>Lfge</th>\n",
       "      <th>Wfge3</th>\n",
       "      <th>Lfge3</th>\n",
       "      <th>Wfte</th>\n",
       "      <th>Lfte</th>\n",
       "    </tr>\n",
       "  </thead>\n",
       "  <tbody>\n",
       "    <tr>\n",
       "      <th>0</th>\n",
       "      <td>2003</td>\n",
       "      <td>10</td>\n",
       "      <td>1104</td>\n",
       "      <td>68</td>\n",
       "      <td>1328</td>\n",
       "      <td>62</td>\n",
       "      <td>N</td>\n",
       "      <td>0</td>\n",
       "      <td>27</td>\n",
       "      <td>58</td>\n",
       "      <td>...</td>\n",
       "      <td>18</td>\n",
       "      <td>9</td>\n",
       "      <td>2</td>\n",
       "      <td>20</td>\n",
       "      <td>0.465517</td>\n",
       "      <td>0.415094</td>\n",
       "      <td>0.214286</td>\n",
       "      <td>0.200000</td>\n",
       "      <td>0.611111</td>\n",
       "      <td>0.727273</td>\n",
       "    </tr>\n",
       "    <tr>\n",
       "      <th>1</th>\n",
       "      <td>2003</td>\n",
       "      <td>10</td>\n",
       "      <td>1272</td>\n",
       "      <td>70</td>\n",
       "      <td>1393</td>\n",
       "      <td>63</td>\n",
       "      <td>N</td>\n",
       "      <td>0</td>\n",
       "      <td>26</td>\n",
       "      <td>62</td>\n",
       "      <td>...</td>\n",
       "      <td>12</td>\n",
       "      <td>8</td>\n",
       "      <td>6</td>\n",
       "      <td>16</td>\n",
       "      <td>0.419355</td>\n",
       "      <td>0.358209</td>\n",
       "      <td>0.400000</td>\n",
       "      <td>0.250000</td>\n",
       "      <td>0.526316</td>\n",
       "      <td>0.450000</td>\n",
       "    </tr>\n",
       "    <tr>\n",
       "      <th>2</th>\n",
       "      <td>2003</td>\n",
       "      <td>11</td>\n",
       "      <td>1266</td>\n",
       "      <td>73</td>\n",
       "      <td>1437</td>\n",
       "      <td>61</td>\n",
       "      <td>N</td>\n",
       "      <td>0</td>\n",
       "      <td>24</td>\n",
       "      <td>58</td>\n",
       "      <td>...</td>\n",
       "      <td>12</td>\n",
       "      <td>2</td>\n",
       "      <td>5</td>\n",
       "      <td>23</td>\n",
       "      <td>0.413793</td>\n",
       "      <td>0.301370</td>\n",
       "      <td>0.444444</td>\n",
       "      <td>0.115385</td>\n",
       "      <td>0.586207</td>\n",
       "      <td>0.608696</td>\n",
       "    </tr>\n",
       "    <tr>\n",
       "      <th>3</th>\n",
       "      <td>2003</td>\n",
       "      <td>11</td>\n",
       "      <td>1296</td>\n",
       "      <td>56</td>\n",
       "      <td>1457</td>\n",
       "      <td>50</td>\n",
       "      <td>N</td>\n",
       "      <td>0</td>\n",
       "      <td>18</td>\n",
       "      <td>38</td>\n",
       "      <td>...</td>\n",
       "      <td>19</td>\n",
       "      <td>4</td>\n",
       "      <td>3</td>\n",
       "      <td>23</td>\n",
       "      <td>0.473684</td>\n",
       "      <td>0.367347</td>\n",
       "      <td>0.333333</td>\n",
       "      <td>0.272727</td>\n",
       "      <td>0.548387</td>\n",
       "      <td>0.533333</td>\n",
       "    </tr>\n",
       "    <tr>\n",
       "      <th>4</th>\n",
       "      <td>2003</td>\n",
       "      <td>11</td>\n",
       "      <td>1400</td>\n",
       "      <td>77</td>\n",
       "      <td>1208</td>\n",
       "      <td>71</td>\n",
       "      <td>N</td>\n",
       "      <td>0</td>\n",
       "      <td>30</td>\n",
       "      <td>61</td>\n",
       "      <td>...</td>\n",
       "      <td>10</td>\n",
       "      <td>7</td>\n",
       "      <td>1</td>\n",
       "      <td>14</td>\n",
       "      <td>0.491803</td>\n",
       "      <td>0.387097</td>\n",
       "      <td>0.428571</td>\n",
       "      <td>0.375000</td>\n",
       "      <td>0.846154</td>\n",
       "      <td>0.629630</td>\n",
       "    </tr>\n",
       "  </tbody>\n",
       "</table>\n",
       "<p>5 rows × 40 columns</p>\n",
       "</div>"
      ],
      "text/plain": [
       "   Season  Daynum  Wteam  Wscore  Lteam  Lscore Wloc  Numot  Wfgm  Wfga  \\\n",
       "0    2003      10   1104      68   1328      62    N      0    27    58   \n",
       "1    2003      10   1272      70   1393      63    N      0    26    62   \n",
       "2    2003      11   1266      73   1437      61    N      0    24    58   \n",
       "3    2003      11   1296      56   1457      50    N      0    18    38   \n",
       "4    2003      11   1400      77   1208      71    N      0    30    61   \n",
       "\n",
       "     ...     Lto  Lstl  Lblk  Lpf      Wfge      Lfge     Wfge3     Lfge3  \\\n",
       "0    ...      18     9     2   20  0.465517  0.415094  0.214286  0.200000   \n",
       "1    ...      12     8     6   16  0.419355  0.358209  0.400000  0.250000   \n",
       "2    ...      12     2     5   23  0.413793  0.301370  0.444444  0.115385   \n",
       "3    ...      19     4     3   23  0.473684  0.367347  0.333333  0.272727   \n",
       "4    ...      10     7     1   14  0.491803  0.387097  0.428571  0.375000   \n",
       "\n",
       "       Wfte      Lfte  \n",
       "0  0.611111  0.727273  \n",
       "1  0.526316  0.450000  \n",
       "2  0.586207  0.608696  \n",
       "3  0.548387  0.533333  \n",
       "4  0.846154  0.629630  \n",
       "\n",
       "[5 rows x 40 columns]"
      ]
     },
     "execution_count": 174,
     "metadata": {},
     "output_type": "execute_result"
    }
   ],
   "source": [
    "#Field Goals\n",
    "results_detailed['Wfge'] = results_detailed['Wfgm']/results_detailed['Wfga']\n",
    "results_detailed['Lfge'] = results_detailed['Lfgm']/results_detailed['Lfga']\n",
    "#Three-pointers\n",
    "results_detailed['Wfge3'] = results_detailed['Wfgm3']/results_detailed['Wfga3']\n",
    "results_detailed['Lfge3'] = results_detailed['Lfgm3']/results_detailed['Lfga3']\n",
    "#Free Throws\n",
    "results_detailed['Wfte'] = results_detailed['Wftm']/results_detailed['Wfta']\n",
    "results_detailed['Lfte'] = results_detailed['Lftm']/results_detailed['Lfta']\n",
    "\n",
    "results_detailed.head()"
   ]
  },
  {
   "cell_type": "markdown",
   "metadata": {},
   "source": [
    "Now we define a few functions which will compile statistics for us.\n",
    "\n",
    "-team_stats takes as input a team_ID and (optionally) a season and outputs all of the stastistics for that team (for that season), game by game.\n",
    "\n",
    "-matchup_stats takes as input two team_IDs and a season and outputs the mean stats of each of those two teams in that season.\n",
    "\n",
    "-tourn_stats takes as input a season and outputs all of the matchup stats for each game played in that tournament, together with a record of which team won the game. Also included are the seed numbers for each team.\n",
    "\n",
    "These three functions build on each other, and the output of tourn_stats for a range of seasons will serve as the training set for our model."
   ]
  },
  {
   "cell_type": "code",
   "execution_count": 340,
   "metadata": {
    "collapsed": true
   },
   "outputs": [],
   "source": [
    "#function which outpouts a dataframe with the statistics of a given team and (optionally) a specific season\n",
    "def team_stats(team_ID, Season = 0):\n",
    "    #drop the stats we won't use\n",
    "    X = results_detailed.drop(['Daynum', 'Numot', 'Wloc', 'Wfgm' ,'Wfga', 'Wfgm3', 'Wfga3', 'Wftm',\\\n",
    "                          'Wfta','Lfgm' ,'Lfga', 'Lfgm3', 'Lfga3', 'Lftm',\\\n",
    "                          'Lfta'], axis = 1)\n",
    "    \n",
    "    if Season > 0:\n",
    "        X = X[X['Season'] == Season]\n",
    "        \n",
    "        \n",
    "    X = X.drop('Season',axis=1)\n",
    "    \n",
    "    #Collect the stats for all games the team won\n",
    "    X_W = X[(X.Wteam == team_ID)].drop(['Wteam', 'Lteam', 'Lfge',\n",
    "                                    'Lfge3','Lfte','Lto','Lblk','Lstl','Lpf','Last', 'Lscore', 'Ldr','Lor'], axis=1)\n",
    "    X_W.rename(columns = {'Wfge':'fge', 'Wfge3':'fge3','Wfte':'fte','Wto':'to','Wblk':'blk',\\\n",
    "                'Wstl':'stl','Wpf':'pf','Wast':'ast','Wscore':'score', 'Wdr':\n",
    "                          'dr','Wor':'or'}, inplace = True)\n",
    "    X_W['Win'] = 1\n",
    "    \n",
    "    #Colleche stats for all games the team lost\n",
    "    X_L = X[(X.Lteam == team_ID)].drop(['Wteam', 'Lteam','Wfge',\n",
    "                                    'Wfge3','Wfte','Wto','Wblk','Wstl','Wpf','Wast','Wscore', 'Wdr','Wor'], axis=1)\n",
    "    X_L.rename(columns = {'Lfge':'fge', 'Lfge3':'fge3','Lfte':'fte','Lto':'to','Lblk':'blk',\\\n",
    "                'Lstl':'stl','Lpf':'pf','Last':'ast','Lscore':'score', 'Ldr':\n",
    "                          'dr','Lor':'or' }, inplace = True)\n",
    "    X_L['Win'] = 0\n",
    "\n",
    "    #Combine win stats with loss stats and return\n",
    "    return pd.concat([X_W, X_L])"
   ]
  },
  {
   "cell_type": "code",
   "execution_count": 341,
   "metadata": {
    "collapsed": false
   },
   "outputs": [],
   "source": [
    "#function that outputs the mean season stats for a pair of teams (specified by ID) and a given season\n",
    "def matchup_stats(team_1, team_2, season):\n",
    "    A = min(team_1, team_2)\n",
    "    B = max(team_1, team_2)\n",
    "    \n",
    "    A_stats = team_stats(A, season)\n",
    "    B_stats = team_stats(B, season)\n",
    "    \n",
    "    A_stats.rename(columns = {'fge' : 'Afge', 'fge3':'Afge3','fte':'Afte','to':'Ato','blk':'Ablk',\\\n",
    "                'stl':'Astl','pf':'Apf','ast':'Aast','score':'Ascore', 'dr':\n",
    "                          'Adr','or':'Aor','Win':'Awrate' }, inplace = True)\n",
    "    B_stats.rename(columns = {'fge' : 'Bfge', 'fge3':'Bfge3','fte':'Bfte','to':'Bto','blk':'Bblk',\\\n",
    "                'stl':'Bstl','pf':'Bpf','ast':'Bast','score':'Bscore', 'dr':\n",
    "                          'Bdr','or':'Bor','Win':'Bwrate' }, inplace = True)\n",
    "    \n",
    "    return pd.concat([A_stats.mean(), B_stats.mean()])"
   ]
  },
  {
   "cell_type": "code",
   "execution_count": 342,
   "metadata": {
    "collapsed": false
   },
   "outputs": [],
   "source": [
    "#function to compile statistics for all matchups in a given tournament\n",
    "def tourn_stats(season):\n",
    "    \n",
    "    tourn = pd.DataFrame(columns = ['Afge','Afge3','Afte','Ato','Ablk',\\\n",
    "                'Astl','Apf','Aast','Ascore', 'Adr','Aor','Awrate','Bfge','Bfge3','Bfte','Bto','Bblk',\\\n",
    "                'Bstl','Bpf','Bast','Bscore', 'Bdr','Bor','Bwrate','Aseed','Bseed', 'Awin'] )\n",
    "    \n",
    "    results = tourn_results_detailed[tourn_results_detailed['Season'] == season]\n",
    "    for i in results.index:\n",
    "        A = min(results.ix[i].Wteam,results.ix[i].Lteam)\n",
    "        B = max(results.ix[i].Wteam,results.ix[i].Lteam)\n",
    "\n",
    "        game_stats = pd.DataFrame(matchup_stats(A,B,season)).T\n",
    "        \n",
    "        game_stats['Aseed'] = int(tourn_seeds[(tourn_seeds.Season == season) &\\\n",
    "                                              (tourn_seeds.Team == A) ].Seed.values[0][1:3])\n",
    "        game_stats['Bseed'] = int(tourn_seeds[(tourn_seeds.Season == season) &\\\n",
    "                                              (tourn_seeds.Team == B) ].Seed.values[0][1:3])\n",
    "    \n",
    "        if A == results.ix[i].Wteam:\n",
    "            game_stats['Awin'] = 1\n",
    "        else:\n",
    "            game_stats['Awin'] = 0 \n",
    "        \n",
    "        tourn = pd.concat([tourn, game_stats])\n",
    "        \n",
    "    return tourn"
   ]
  },
  {
   "cell_type": "markdown",
   "metadata": {},
   "source": [
    "Now we compile all of the tourn_stats for a range of seasons to use as the training set for our model"
   ]
  },
  {
   "cell_type": "code",
   "execution_count": 415,
   "metadata": {
    "collapsed": false
   },
   "outputs": [
    {
     "data": {
      "text/html": [
       "<div>\n",
       "<table border=\"1\" class=\"dataframe\">\n",
       "  <thead>\n",
       "    <tr style=\"text-align: right;\">\n",
       "      <th></th>\n",
       "      <th>Afge</th>\n",
       "      <th>Afge3</th>\n",
       "      <th>Afte</th>\n",
       "      <th>Ato</th>\n",
       "      <th>Ablk</th>\n",
       "      <th>Astl</th>\n",
       "      <th>Apf</th>\n",
       "      <th>Aast</th>\n",
       "      <th>Ascore</th>\n",
       "      <th>Adr</th>\n",
       "      <th>...</th>\n",
       "      <th>Bstl</th>\n",
       "      <th>Bpf</th>\n",
       "      <th>Bast</th>\n",
       "      <th>Bscore</th>\n",
       "      <th>Bdr</th>\n",
       "      <th>Bor</th>\n",
       "      <th>Bwrate</th>\n",
       "      <th>Aseed</th>\n",
       "      <th>Bseed</th>\n",
       "      <th>Awin</th>\n",
       "    </tr>\n",
       "  </thead>\n",
       "  <tbody>\n",
       "    <tr>\n",
       "      <th>0</th>\n",
       "      <td>0.448892</td>\n",
       "      <td>0.321414</td>\n",
       "      <td>0.613745</td>\n",
       "      <td>15.233333</td>\n",
       "      <td>2.233333</td>\n",
       "      <td>6.433333</td>\n",
       "      <td>18.300000</td>\n",
       "      <td>14.200000</td>\n",
       "      <td>72.800000</td>\n",
       "      <td>24.800000</td>\n",
       "      <td>...</td>\n",
       "      <td>7.068966</td>\n",
       "      <td>19.103448</td>\n",
       "      <td>13.034483</td>\n",
       "      <td>71.206897</td>\n",
       "      <td>23.172414</td>\n",
       "      <td>12.275862</td>\n",
       "      <td>0.448276</td>\n",
       "      <td>16.0</td>\n",
       "      <td>16.0</td>\n",
       "      <td>0.0</td>\n",
       "    </tr>\n",
       "    <tr>\n",
       "      <th>1</th>\n",
       "      <td>0.463563</td>\n",
       "      <td>0.351060</td>\n",
       "      <td>0.701154</td>\n",
       "      <td>14.785714</td>\n",
       "      <td>4.214286</td>\n",
       "      <td>8.464286</td>\n",
       "      <td>17.750000</td>\n",
       "      <td>17.642857</td>\n",
       "      <td>85.214286</td>\n",
       "      <td>27.642857</td>\n",
       "      <td>...</td>\n",
       "      <td>6.862069</td>\n",
       "      <td>15.896552</td>\n",
       "      <td>14.206897</td>\n",
       "      <td>67.793103</td>\n",
       "      <td>25.724138</td>\n",
       "      <td>12.965517</td>\n",
       "      <td>0.655172</td>\n",
       "      <td>1.0</td>\n",
       "      <td>16.0</td>\n",
       "      <td>1.0</td>\n",
       "    </tr>\n",
       "    <tr>\n",
       "      <th>2</th>\n",
       "      <td>0.481680</td>\n",
       "      <td>0.328376</td>\n",
       "      <td>0.675667</td>\n",
       "      <td>14.000000</td>\n",
       "      <td>4.241379</td>\n",
       "      <td>5.206897</td>\n",
       "      <td>19.413793</td>\n",
       "      <td>15.551724</td>\n",
       "      <td>75.965517</td>\n",
       "      <td>23.310345</td>\n",
       "      <td>...</td>\n",
       "      <td>7.379310</td>\n",
       "      <td>18.758621</td>\n",
       "      <td>16.620690</td>\n",
       "      <td>74.517241</td>\n",
       "      <td>25.965517</td>\n",
       "      <td>14.068966</td>\n",
       "      <td>0.793103</td>\n",
       "      <td>10.0</td>\n",
       "      <td>7.0</td>\n",
       "      <td>1.0</td>\n",
       "    </tr>\n",
       "    <tr>\n",
       "      <th>3</th>\n",
       "      <td>0.506349</td>\n",
       "      <td>0.377481</td>\n",
       "      <td>0.762741</td>\n",
       "      <td>18.241379</td>\n",
       "      <td>4.000000</td>\n",
       "      <td>7.103448</td>\n",
       "      <td>20.965517</td>\n",
       "      <td>15.620690</td>\n",
       "      <td>79.344828</td>\n",
       "      <td>23.275862</td>\n",
       "      <td>...</td>\n",
       "      <td>8.393939</td>\n",
       "      <td>17.272727</td>\n",
       "      <td>16.818182</td>\n",
       "      <td>79.242424</td>\n",
       "      <td>23.181818</td>\n",
       "      <td>10.878788</td>\n",
       "      <td>0.878788</td>\n",
       "      <td>11.0</td>\n",
       "      <td>6.0</td>\n",
       "      <td>1.0</td>\n",
       "    </tr>\n",
       "    <tr>\n",
       "      <th>4</th>\n",
       "      <td>0.468741</td>\n",
       "      <td>0.375934</td>\n",
       "      <td>0.688632</td>\n",
       "      <td>14.172414</td>\n",
       "      <td>2.793103</td>\n",
       "      <td>6.551724</td>\n",
       "      <td>17.103448</td>\n",
       "      <td>16.000000</td>\n",
       "      <td>74.482759</td>\n",
       "      <td>24.379310</td>\n",
       "      <td>...</td>\n",
       "      <td>7.766667</td>\n",
       "      <td>18.666667</td>\n",
       "      <td>14.666667</td>\n",
       "      <td>72.400000</td>\n",
       "      <td>22.033333</td>\n",
       "      <td>9.733333</td>\n",
       "      <td>0.600000</td>\n",
       "      <td>8.0</td>\n",
       "      <td>9.0</td>\n",
       "      <td>1.0</td>\n",
       "    </tr>\n",
       "  </tbody>\n",
       "</table>\n",
       "<p>5 rows × 27 columns</p>\n",
       "</div>"
      ],
      "text/plain": [
       "       Afge     Afge3      Afte        Ato      Ablk      Astl        Apf  \\\n",
       "0  0.448892  0.321414  0.613745  15.233333  2.233333  6.433333  18.300000   \n",
       "1  0.463563  0.351060  0.701154  14.785714  4.214286  8.464286  17.750000   \n",
       "2  0.481680  0.328376  0.675667  14.000000  4.241379  5.206897  19.413793   \n",
       "3  0.506349  0.377481  0.762741  18.241379  4.000000  7.103448  20.965517   \n",
       "4  0.468741  0.375934  0.688632  14.172414  2.793103  6.551724  17.103448   \n",
       "\n",
       "        Aast     Ascore        Adr  ...       Bstl        Bpf       Bast  \\\n",
       "0  14.200000  72.800000  24.800000  ...   7.068966  19.103448  13.034483   \n",
       "1  17.642857  85.214286  27.642857  ...   6.862069  15.896552  14.206897   \n",
       "2  15.551724  75.965517  23.310345  ...   7.379310  18.758621  16.620690   \n",
       "3  15.620690  79.344828  23.275862  ...   8.393939  17.272727  16.818182   \n",
       "4  16.000000  74.482759  24.379310  ...   7.766667  18.666667  14.666667   \n",
       "\n",
       "      Bscore        Bdr        Bor    Bwrate  Aseed  Bseed  Awin  \n",
       "0  71.206897  23.172414  12.275862  0.448276   16.0   16.0   0.0  \n",
       "1  67.793103  25.724138  12.965517  0.655172    1.0   16.0   1.0  \n",
       "2  74.517241  25.965517  14.068966  0.793103   10.0    7.0   1.0  \n",
       "3  79.242424  23.181818  10.878788  0.878788   11.0    6.0   1.0  \n",
       "4  72.400000  22.033333   9.733333  0.600000    8.0    9.0   1.0  \n",
       "\n",
       "[5 rows x 27 columns]"
      ]
     },
     "execution_count": 415,
     "metadata": {},
     "output_type": "execute_result"
    }
   ],
   "source": [
    "#Compile statistics for all tournaments in a given range of years\n",
    "all_stats = pd.DataFrame(columns = ['Afge','Afge3','Afte','Ato','Ablk',\\\n",
    "                'Astl','Apf','Aast','Ascore', 'Adr','Aor','Awrate','Bfge','Bfge3','Bfte','Bto','Bblk',\\\n",
    "                'Bstl','Bpf','Bast','Bscore', 'Bdr','Bor','Bwrate','Aseed','Bseed', 'Awin'] )\n",
    "\n",
    "for year in range(2003, 2012 +1):\n",
    "    all_stats = pd.concat([all_stats,tourn_stats(year)], ignore_index=True)\n",
    "\n",
    "all_stats = all_stats[['Afge','Afge3','Afte','Ato','Ablk',\\\n",
    "                'Astl','Apf','Aast','Ascore', 'Adr','Aor','Awrate','Bfge','Bfge3','Bfte','Bto','Bblk',\\\n",
    "                'Bstl','Bpf','Bast','Bscore', 'Bdr','Bor','Bwrate','Aseed','Bseed', 'Awin']]\n",
    "all_stats.head()"
   ]
  },
  {
   "cell_type": "markdown",
   "metadata": {},
   "source": [
    "This is where we define the model for calculating win probabilities. The model is a neural network with one hidden layer containing 15 nodes."
   ]
  },
  {
   "cell_type": "code",
   "execution_count": 419,
   "metadata": {
    "collapsed": false
   },
   "outputs": [
    {
     "data": {
      "text/plain": [
       "MLPClassifier(activation='logistic', alpha=0.0001, batch_size='auto',\n",
       "       beta_1=0.9, beta_2=0.999, early_stopping=False, epsilon=1e-08,\n",
       "       hidden_layer_sizes=(1,), learning_rate='constant',\n",
       "       learning_rate_init=0.001, max_iter=200, momentum=0.9,\n",
       "       nesterovs_momentum=True, power_t=0.5, random_state=None,\n",
       "       shuffle=True, solver='adam', tol=0.0001, validation_fraction=0.1,\n",
       "       verbose=False, warm_start=False)"
      ]
     },
     "execution_count": 419,
     "metadata": {},
     "output_type": "execute_result"
    }
   ],
   "source": [
    "X = all_stats.drop('Awin',axis=1)\n",
    "Y = all_stats['Awin']\n",
    "\n",
    "#standard ordering of the columns\n",
    "cols = ['Afge','Afge3','Afte','Ato','Ablk','Astl','Apf','Aast','Ascore', \\\n",
    "        'Adr','Aor','Awrate','Bfge','Bfge3','Bfte','Bto','Bblk',\\\n",
    "        'Bstl','Bpf','Bast','Bscore', 'Bdr','Bor','Bwrate','Aseed','Bseed']\n",
    "\n",
    "X = X[cols]\n",
    "\n",
    "scaler = sklearn.preprocessing.StandardScaler()\n",
    "scaler.fit(X)\n",
    "X = scaler.transform(X)\n",
    "\n",
    "model = sklearn.neural_network.MLPClassifier(activation='logistic',hidden_layer_sizes=(15,))\n",
    "model.fit(X,Y)"
   ]
  },
  {
   "cell_type": "markdown",
   "metadata": {},
   "source": [
    "## Cross-validation\n",
    "\n",
    "We cross-validate the model to help estimate errors\n"
   ]
  },
  {
   "cell_type": "code",
   "execution_count": 417,
   "metadata": {
    "collapsed": false,
    "scrolled": true
   },
   "outputs": [
    {
     "data": {
      "image/png": "[encoded data removed]",
      "text/plain": [
       "<matplotlib.figure.Figure at 0x11440ec50>"
      ]
     },
     "metadata": {},
     "output_type": "display_data"
    }
   ],
   "source": [
    "parameters = {'hidden_layer_sizes' : [(i,) for i in range(1,20)]}\n",
    "grid = sklearn.model_selection.GridSearchCV(model,parameters, cv = 3)\n",
    "grid.fit(X,Y)\n",
    "cv = pd.DataFrame(grid.cv_results_)\n",
    "cv[['split0_test_score','split1_test_score','split2_test_score']].T.boxplot()\n",
    "plt.show()"
   ]
  },
  {
   "cell_type": "code",
   "execution_count": 418,
   "metadata": {
    "collapsed": false
   },
   "outputs": [
    {
     "data": {
      "text/plain": [
       "{'hidden_layer_sizes': (13,)}"
      ]
     },
     "execution_count": 418,
     "metadata": {},
     "output_type": "execute_result"
    }
   ],
   "source": [
    "grid.best_params_"
   ]
  },
  {
   "cell_type": "markdown",
   "metadata": {},
   "source": [
    "## Generate Predictions\n",
    "\n",
    "This function generates all of the predictions for the possible matchups in a given tournament. The output is formatted according to the Kaggle specifications."
   ]
  },
  {
   "cell_type": "code",
   "execution_count": 345,
   "metadata": {
    "collapsed": false
   },
   "outputs": [],
   "source": [
    "from itertools import combinations\n",
    "\n",
    "def generate_predictions(Season):\n",
    "   \n",
    "    ids = []\n",
    "    pred = []\n",
    "    \n",
    "    matchups = tourn_seeds[tourn_seeds['Season']==Season].Team\n",
    "    matchups = combinations(matchups, 2)\n",
    "    \n",
    "    for n ,l in matchups:\n",
    "        A = min(n,l)\n",
    "        B = max(n,l)\n",
    "        \n",
    "        match_stats = matchup_stats(A,B,Season)\n",
    "        \n",
    "        match_stats['Aseed'] = int(tourn_seeds[(tourn_seeds.Season == Season) &\\\n",
    "                                              (tourn_seeds.Team == A) ].Seed.values[0][1:3])\n",
    "        match_stats['Bseed'] = int(tourn_seeds[(tourn_seeds.Season == Season) &\\\n",
    "                                              (tourn_seeds.Team == B) ].Seed.values[0][1:3])\n",
    "        \n",
    "        match_stats = scaler.transform(match_stats[cols].values.reshape(1,-1))\n",
    "        \n",
    "        P = model.predict_proba(match_stats)[0,1]\n",
    "        \n",
    "        ids.append('%s_%s_%s' %(Season, A, B))\n",
    "        pred.append(P)\n",
    "        \n",
    "    return ids, pred"
   ]
  },
  {
   "cell_type": "code",
   "execution_count": 420,
   "metadata": {
    "collapsed": false
   },
   "outputs": [
    {
     "data": {
      "text/html": [
       "<div>\n",
       "<table border=\"1\" class=\"dataframe\">\n",
       "  <thead>\n",
       "    <tr style=\"text-align: right;\">\n",
       "      <th></th>\n",
       "      <th>id</th>\n",
       "      <th>pred</th>\n",
       "    </tr>\n",
       "  </thead>\n",
       "  <tbody>\n",
       "    <tr>\n",
       "      <th>0</th>\n",
       "      <td>2013_1231_1274</td>\n",
       "      <td>0.626697</td>\n",
       "    </tr>\n",
       "    <tr>\n",
       "      <th>1</th>\n",
       "      <td>2013_1231_1266</td>\n",
       "      <td>0.633896</td>\n",
       "    </tr>\n",
       "    <tr>\n",
       "      <th>2</th>\n",
       "      <td>2013_1231_1393</td>\n",
       "      <td>0.529667</td>\n",
       "    </tr>\n",
       "    <tr>\n",
       "      <th>3</th>\n",
       "      <td>2013_1231_1424</td>\n",
       "      <td>0.622914</td>\n",
       "    </tr>\n",
       "    <tr>\n",
       "      <th>4</th>\n",
       "      <td>2013_1139_1231</td>\n",
       "      <td>0.386368</td>\n",
       "    </tr>\n",
       "  </tbody>\n",
       "</table>\n",
       "</div>"
      ],
      "text/plain": [
       "               id      pred\n",
       "0  2013_1231_1274  0.626697\n",
       "1  2013_1231_1266  0.633896\n",
       "2  2013_1231_1393  0.529667\n",
       "3  2013_1231_1424  0.622914\n",
       "4  2013_1139_1231  0.386368"
      ]
     },
     "execution_count": 420,
     "metadata": {},
     "output_type": "execute_result"
    }
   ],
   "source": [
    "preds = pd.DataFrame(columns = ['id','pred'])\n",
    "for year in range(2013, 2016 +1):\n",
    "    ids, pred = generate_predictions(year)    \n",
    "    temp_preds = pd.DataFrame(ids,columns = ['id'])\n",
    "    temp_preds['pred'] = pred\n",
    "    preds = pd.concat([preds,temp_preds])\n",
    "preds.head()"
   ]
  },
  {
   "cell_type": "code",
   "execution_count": 421,
   "metadata": {
    "collapsed": false
   },
   "outputs": [
    {
     "data": {
      "text/plain": [
       "0.62856731590477888"
      ]
     },
     "execution_count": 421,
     "metadata": {},
     "output_type": "execute_result"
    }
   ],
   "source": [
    "loss = 0\n",
    "for year in range(2013, 2016 +1):\n",
    "    loss += compute_loss(preds,year)\n",
    "loss = loss/len(range(2013, 2016 +1))\n",
    "loss"
   ]
  },
  {
   "cell_type": "code",
   "execution_count": 348,
   "metadata": {
    "collapsed": true
   },
   "outputs": [],
   "source": [
    "#preds.to_csv('second_submission.csv', index=False)"
   ]
  },
  {
   "cell_type": "markdown",
   "metadata": {},
   "source": [
    "## Testing\n",
    "This function will compute the log loss for a given set of predictions for a tournament from one of the seasons 2003-2016. The predictions are assumed to be in the form of the Kaggle submission file. A baseline value for the loss function is $\\log 2 \\approx 0.69$, which would be the result if one just flipped a coin for every game."
   ]
  },
  {
   "cell_type": "code",
   "execution_count": 78,
   "metadata": {
    "collapsed": false
   },
   "outputs": [],
   "source": [
    "def compute_loss(predictions, season):\n",
    "    results = tourn_results_detailed[tourn_results_detailed['Season']== season]\n",
    "    loss = 0\n",
    "    for i in results.index:\n",
    "        A = min(results.ix[i].Wteam,results.ix[i].Lteam)\n",
    "        B = max(results.ix[i].Wteam,results.ix[i].Lteam)\n",
    "        if A == results.ix[i].Wteam:\n",
    "            loss += -np.log(predictions[predictions['id']== '%s_%s_%s' %(season,A,B)].pred.values[0])\n",
    "        else:\n",
    "            loss += -np.log(1-predictions[predictions['id']== '%s_%s_%s' %(season,A,B)].pred.values[0])\n",
    "    return loss/len(results)"
   ]
  },
  {
   "cell_type": "markdown",
   "metadata": {},
   "source": [
    "The first submission was not very sensible and was mostly an exercise in getting succssfully submittion something. The log loss is worse than random guessing."
   ]
  },
  {
   "cell_type": "code",
   "execution_count": 89,
   "metadata": {
    "collapsed": false
   },
   "outputs": [
    {
     "data": {
      "text/plain": [
       "0.73183285394105946"
      ]
     },
     "execution_count": 89,
     "metadata": {},
     "output_type": "execute_result"
    }
   ],
   "source": [
    "test = pd.read_csv('first_submission.csv')\n",
    "loss = 0\n",
    "for year in range(2013, 2016 +1):\n",
    "    loss += compute_loss(test,year)\n",
    "loss = loss/len(range(2013, 2016 +1))\n",
    "loss"
   ]
  },
  {
   "cell_type": "markdown",
   "metadata": {},
   "source": [
    "The second submission is an actual neural net model that compares the teams that are being matched up and also takes into account the tournament seeds."
   ]
  },
  {
   "cell_type": "code",
   "execution_count": 349,
   "metadata": {
    "collapsed": false
   },
   "outputs": [
    {
     "data": {
      "text/plain": [
       "0.58549862096697514"
      ]
     },
     "execution_count": 349,
     "metadata": {},
     "output_type": "execute_result"
    }
   ],
   "source": [
    "test = pd.read_csv('second_submission.csv')\n",
    "loss = 0\n",
    "for year in range(2013, 2016 +1):\n",
    "    loss += compute_loss(test,year)\n",
    "loss = loss/len(range(2013, 2016 +1))\n",
    "loss"
   ]
  }
 ],
 "metadata": {
  "kernelspec": {
   "display_name": "Python 2",
   "language": "python",
   "name": "python2"
  },
  "language_info": {
   "codemirror_mode": {
    "name": "ipython",
    "version": 2
   },
   "file_extension": ".py",
   "mimetype": "text/x-python",
   "name": "python",
   "nbconvert_exporter": "python",
   "pygments_lexer": "ipython2",
   "version": "2.7.11"
  }
 },
 "nbformat": 4,
 "nbformat_minor": 0
}
